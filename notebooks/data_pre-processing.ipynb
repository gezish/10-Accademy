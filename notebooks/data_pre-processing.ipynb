{
 "cells": [
  {
   "cell_type": "markdown",
   "metadata": {},
   "source": [
    "## Importing Libraries And Utilities"
   ]
  },
  {
   "cell_type": "code",
   "execution_count": 9,
   "metadata": {},
   "outputs": [],
   "source": [
    "import numpy as np\n",
    "import pandas as pd\n",
    "import math\n",
    "import sys, os"
   ]
  },
  {
   "cell_type": "code",
   "execution_count": 13,
   "metadata": {},
   "outputs": [
    {
     "ename": "ModuleNotFoundError",
     "evalue": "No module named 'matplotlib'",
     "output_type": "error",
     "traceback": [
      "\u001b[1;31m---------------------------------------------------------------------------\u001b[0m",
      "\u001b[1;31mModuleNotFoundError\u001b[0m                       Traceback (most recent call last)",
      "\u001b[1;32mc:\\10-Accademy\\Weak-1\\TellCo-UserDataAnalytics\\notebooks\\data_pre-processing.ipynb Cell 3'\u001b[0m in \u001b[0;36m<cell line: 4>\u001b[1;34m()\u001b[0m\n\u001b[0;32m      <a href='vscode-notebook-cell:/c%3A/10-Accademy/Weak-1/TellCo-UserDataAnalytics/notebooks/data_pre-processing.ipynb#ch0000005?line=1'>2</a>\u001b[0m \u001b[39mfrom\u001b[39;00m \u001b[39mdf_selector\u001b[39;00m \u001b[39mimport\u001b[39;00m \u001b[39m*\u001b[39m\n\u001b[0;32m      <a href='vscode-notebook-cell:/c%3A/10-Accademy/Weak-1/TellCo-UserDataAnalytics/notebooks/data_pre-processing.ipynb#ch0000005?line=2'>3</a>\u001b[0m \u001b[39mfrom\u001b[39;00m \u001b[39mdf_cleaner\u001b[39;00m \u001b[39mimport\u001b[39;00m \u001b[39m*\u001b[39m\n\u001b[1;32m----> <a href='vscode-notebook-cell:/c%3A/10-Accademy/Weak-1/TellCo-UserDataAnalytics/notebooks/data_pre-processing.ipynb#ch0000005?line=3'>4</a>\u001b[0m \u001b[39mfrom\u001b[39;00m \u001b[39mdf_visualizer\u001b[39;00m \u001b[39mimport\u001b[39;00m \u001b[39m*\u001b[39m\n\u001b[0;32m      <a href='vscode-notebook-cell:/c%3A/10-Accademy/Weak-1/TellCo-UserDataAnalytics/notebooks/data_pre-processing.ipynb#ch0000005?line=4'>5</a>\u001b[0m \u001b[39mfrom\u001b[39;00m \u001b[39mdf_outlier_handler\u001b[39;00m \u001b[39mimport\u001b[39;00m OutlierHandler\n",
      "File \u001b[1;32mc:\\10-Accademy\\Weak-1\\TellCo-UserDataAnalytics\\scripts\\df_visualizer.py:2\u001b[0m, in \u001b[0;36m<module>\u001b[1;34m\u001b[0m\n\u001b[0;32m      <a href='file:///c%3A/10-Accademy/Weak-1/TellCo-UserDataAnalytics/scripts/df_visualizer.py?line=0'>1</a>\u001b[0m \u001b[39mimport\u001b[39;00m \u001b[39mpandas\u001b[39;00m \u001b[39mas\u001b[39;00m \u001b[39mpd\u001b[39;00m\n\u001b[1;32m----> <a href='file:///c%3A/10-Accademy/Weak-1/TellCo-UserDataAnalytics/scripts/df_visualizer.py?line=1'>2</a>\u001b[0m \u001b[39mimport\u001b[39;00m \u001b[39mmatplotlib\u001b[39;00m\u001b[39m.\u001b[39;00m\u001b[39mpyplot\u001b[39;00m \u001b[39mas\u001b[39;00m \u001b[39mplt\u001b[39;00m\n\u001b[0;32m      <a href='file:///c%3A/10-Accademy/Weak-1/TellCo-UserDataAnalytics/scripts/df_visualizer.py?line=2'>3</a>\u001b[0m \u001b[39mimport\u001b[39;00m \u001b[39mseaborn\u001b[39;00m \u001b[39mas\u001b[39;00m \u001b[39msns\u001b[39;00m\n\u001b[0;32m      <a href='file:///c%3A/10-Accademy/Weak-1/TellCo-UserDataAnalytics/scripts/df_visualizer.py?line=3'>4</a>\u001b[0m \u001b[39mimport\u001b[39;00m \u001b[39mplotly\u001b[39;00m\u001b[39m.\u001b[39;00m\u001b[39mexpress\u001b[39;00m \u001b[39mas\u001b[39;00m \u001b[39mpx\u001b[39;00m\n",
      "\u001b[1;31mModuleNotFoundError\u001b[0m: No module named 'matplotlib'"
     ]
    }
   ],
   "source": [
    "sys.path.append(os.path.abspath(os.path.join('../scripts')))\n",
    "from data_selector import *\n",
    "from data_cleaner import *\n",
    "from data_visualizer import *\n",
    "from outlier_handler import OutlierHandler"
   ]
  },
  {
   "cell_type": "markdown",
   "metadata": {},
   "source": [
    "## Data Loading"
   ]
  },
  {
   "cell_type": "code",
   "execution_count": null,
   "metadata": {},
   "outputs": [],
   "source": []
  }
 ],
 "metadata": {
  "interpreter": {
   "hash": "4cb8ae0d4007c897d4c538ff97cfea98330629c224daadb6a50a901c5cb671cf"
  },
  "kernelspec": {
   "display_name": "Python 3.9.1 64-bit",
   "language": "python",
   "name": "python3"
  },
  "language_info": {
   "codemirror_mode": {
    "name": "ipython",
    "version": 3
   },
   "file_extension": ".py",
   "mimetype": "text/x-python",
   "name": "python",
   "nbconvert_exporter": "python",
   "pygments_lexer": "ipython3",
   "version": "3.9.1"
  },
  "orig_nbformat": 4
 },
 "nbformat": 4,
 "nbformat_minor": 2
}
