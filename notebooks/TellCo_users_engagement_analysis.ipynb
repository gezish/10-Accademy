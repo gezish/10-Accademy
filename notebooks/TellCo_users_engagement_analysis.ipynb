{
 "cells": [
  {
   "cell_type": "markdown",
   "id": "1b698e85",
   "metadata": {},
   "source": [
    "## User Engagement Analysis"
   ]
  },
  {
   "cell_type": "markdown",
   "id": "9c91e150",
   "metadata": {},
   "source": [
    "### Major Objectives \n",
    "Track the user’s engagement using the following engagement metrics: \n",
    "- sessions frequency \n",
    "- the duration of the session \n",
    "- the sessions total traffic (download and upload (bytes))"
   ]
  },
  {
   "cell_type": "markdown",
   "id": "03047f0c",
   "metadata": {},
   "source": [
    "### Sub Tasks\n",
    "- Aggregate the above metrics per customer id (MSISDN) and report the top 10 customers per engagement metric \n",
    "- Normalize each engagement metric and run a k-means (k=3) to classify customers in three groups of engagement. \n",
    "- Compute the minimum, maximum, average & total non- normalized metrics for each cluster. \n",
    "- Interpret your results visually with accompanying text explaining your findings.\n",
    "- Aggregate user total traffic per application and derive the top 10 most engaged users per application\n",
    "- Plot the top 3 most used applications using appropriate charts.  \n",
    "- Using k-means clustering algorithm, group users in k engagement clusters based on the engagement metrics: \n",
    "- What is the optimized value of k (use elbow method for this)?  \n",
    "- Interpret your findings. \n"
   ]
  },
  {
   "cell_type": "markdown",
   "id": "fb8a6bdf",
   "metadata": {},
   "source": [
    "### Importing Liberaries"
   ]
  },
  {
   "cell_type": "code",
   "execution_count": 5,
   "id": "143a317e",
   "metadata": {},
   "outputs": [],
   "source": [
    "import pandas as pd\n",
    "import numpy as np\n",
    "import matplotlib.pyplot as plt\n",
    "import seaborn as sns\n",
    "import plotly.express as px\n",
    "import matplotlib\n",
    "import warnings\n",
    "warnings.filterwarnings(\"ignore\", category=FutureWarning)\n",
    "import math\n",
    "import sys, os"
   ]
  },
  {
   "cell_type": "code",
   "execution_count": 6,
   "id": "d958eceb",
   "metadata": {},
   "outputs": [],
   "source": [
    "sys.path.append(os.path.abspath(os.path.join('../scripts..')))\n",
    "from data_visualizer import *\n",
    "from data_selector import *\n",
    "from outlier_handler import*"
   ]
  },
  {
   "cell_type": "markdown",
   "id": "a23b103a",
   "metadata": {},
   "source": [
    "### Load Data"
   ]
  },
  {
   "cell_type": "code",
   "execution_count": 7,
   "id": "fa16e781",
   "metadata": {},
   "outputs": [
    {
     "name": "stdout",
     "output_type": "stream",
     "text": [
      "<class 'pandas.core.frame.DataFrame'>\n",
      "RangeIndex: 146887 entries, 0 to 146886\n",
      "Data columns (total 55 columns):\n",
      " #   Column                            Non-Null Count   Dtype  \n",
      "---  ------                            --------------   -----  \n",
      " 0   Unnamed: 0                        146887 non-null  int64  \n",
      " 1   Bearer Id                         146887 non-null  int64  \n",
      " 2   Start                             146887 non-null  object \n",
      " 3   Start ms                          146887 non-null  float64\n",
      " 4   End                               146887 non-null  object \n",
      " 5   End ms                            146887 non-null  float64\n",
      " 6   IMSI                              146887 non-null  int64  \n",
      " 7   MSISDN/Number                     146887 non-null  int64  \n",
      " 8   IMEI                              146887 non-null  int64  \n",
      " 9   Last Location Name                146887 non-null  object \n",
      " 10  Avg RTT DL (ms)                   146887 non-null  float64\n",
      " 11  Avg RTT UL (ms)                   146887 non-null  float64\n",
      " 12  Avg Bearer TP DL (kbps)           146887 non-null  float64\n",
      " 13  Avg Bearer TP UL (kbps)           146887 non-null  float64\n",
      " 14  TCP DL Retrans. Vol (Bytes)       146887 non-null  float64\n",
      " 15  TCP UL Retrans. Vol (Bytes)       146887 non-null  float64\n",
      " 16  DL TP < 50 Kbps (%)               146887 non-null  float64\n",
      " 17  50 Kbps < DL TP < 250 Kbps (%)    146887 non-null  float64\n",
      " 18  250 Kbps < DL TP < 1 Mbps (%)     146887 non-null  float64\n",
      " 19  DL TP > 1 Mbps (%)                146887 non-null  float64\n",
      " 20  UL TP < 10 Kbps (%)               146887 non-null  float64\n",
      " 21  10 Kbps < UL TP < 50 Kbps (%)     146887 non-null  float64\n",
      " 22  50 Kbps < UL TP < 300 Kbps (%)    146887 non-null  float64\n",
      " 23  UL TP > 300 Kbps (%)              146887 non-null  float64\n",
      " 24  Activity Duration DL (ms)         146887 non-null  float64\n",
      " 25  Activity Duration UL (ms)         146887 non-null  float64\n",
      " 26  Dur. (ms).1                       146887 non-null  float64\n",
      " 27  Handset Manufacturer              146887 non-null  object \n",
      " 28  Handset Type                      146887 non-null  object \n",
      " 29  Nb of sec with Vol DL < 6250B     146887 non-null  float64\n",
      " 30  Nb of sec with Vol UL < 1250B     146887 non-null  float64\n",
      " 31  Social Media DL (Bytes)           146887 non-null  float64\n",
      " 32  Social Media UL (Bytes)           146887 non-null  float64\n",
      " 33  Google DL (Bytes)                 146887 non-null  float64\n",
      " 34  Google UL (Bytes)                 146887 non-null  float64\n",
      " 35  Email DL (Bytes)                  146887 non-null  float64\n",
      " 36  Email UL (Bytes)                  146887 non-null  float64\n",
      " 37  Youtube DL (Bytes)                146887 non-null  float64\n",
      " 38  Youtube UL (Bytes)                146887 non-null  float64\n",
      " 39  Netflix DL (Bytes)                146887 non-null  float64\n",
      " 40  Netflix UL (Bytes)                146887 non-null  float64\n",
      " 41  Gaming DL (Bytes)                 146887 non-null  float64\n",
      " 42  Gaming UL (Bytes)                 146887 non-null  float64\n",
      " 43  Other DL (Bytes)                  146887 non-null  float64\n",
      " 44  Other UL (Bytes)                  146887 non-null  float64\n",
      " 45  Total UL (Bytes)                  146887 non-null  float64\n",
      " 46  Total DL (Bytes)                  146887 non-null  float64\n",
      " 47  Social Media Data Volume (Bytes)  146887 non-null  float64\n",
      " 48  Google Data Volume (Bytes)        146887 non-null  float64\n",
      " 49  Email Data Volume (Bytes)         146887 non-null  float64\n",
      " 50  Youtube Data Volume (Bytes)       146887 non-null  float64\n",
      " 51  Netflix Data Volume (Bytes)       146887 non-null  float64\n",
      " 52  Gaming Data Volume (Bytes)        146887 non-null  float64\n",
      " 53  Other Data Volume (Bytes)         146887 non-null  float64\n",
      " 54  Total Data Volume (Bytes)         146887 non-null  float64\n",
      "dtypes: float64(45), int64(5), object(5)\n",
      "memory usage: 61.6+ MB\n"
     ]
    }
   ],
   "source": [
    "clean_df = pd.read_csv(\"../data/my_clean_data.csv\")\n",
    "clean_df.info()"
   ]
  },
  {
   "cell_type": "markdown",
   "id": "a60fa2e1",
   "metadata": {},
   "source": [
    "### User Engagement Analysis"
   ]
  },
  {
   "cell_type": "markdown",
   "id": "ade7281f",
   "metadata": {},
   "source": [
    "**1. Top 10 customers per engagement metric**"
   ]
  },
  {
   "cell_type": "code",
   "execution_count": 10,
   "id": "d5a028e3",
   "metadata": {},
   "outputs": [
    {
     "name": "stdout",
     "output_type": "stream",
     "text": [
      "The total number of Customer in the TellCo are =  105716\n"
     ]
    }
   ],
   "source": [
    "total_users = clean_df['MSISDN/Number'].nunique()\n",
    "print(\"The total number of Customer in the TellCo are = \",total_users)"
   ]
  },
  {
   "cell_type": "code",
   "execution_count": 15,
   "id": "db95c01e",
   "metadata": {},
   "outputs": [
    {
     "data": {
      "text/html": [
       "<div>\n",
       "<style scoped>\n",
       "    .dataframe tbody tr th:only-of-type {\n",
       "        vertical-align: middle;\n",
       "    }\n",
       "\n",
       "    .dataframe tbody tr th {\n",
       "        vertical-align: top;\n",
       "    }\n",
       "\n",
       "    .dataframe thead th {\n",
       "        text-align: right;\n",
       "    }\n",
       "</style>\n",
       "<table border=\"1\" class=\"dataframe\">\n",
       "  <thead>\n",
       "    <tr style=\"text-align: right;\">\n",
       "      <th></th>\n",
       "      <th>MSISDN/Number</th>\n",
       "      <th>Bearer Id</th>\n",
       "      <th>time_duration</th>\n",
       "      <th>Total Data Volume (Bytes)</th>\n",
       "    </tr>\n",
       "  </thead>\n",
       "  <tbody>\n",
       "    <tr>\n",
       "      <th>0</th>\n",
       "      <td>33664962239</td>\n",
       "      <td>-9223372036854775808</td>\n",
       "      <td>245108160.5</td>\n",
       "      <td>345629377.0</td>\n",
       "    </tr>\n",
       "    <tr>\n",
       "      <th>1</th>\n",
       "      <td>33681854413</td>\n",
       "      <td>-9223372036854775808</td>\n",
       "      <td>245108160.5</td>\n",
       "      <td>707185356.0</td>\n",
       "    </tr>\n",
       "    <tr>\n",
       "      <th>2</th>\n",
       "      <td>33760627129</td>\n",
       "      <td>-9223372036854775808</td>\n",
       "      <td>245108160.5</td>\n",
       "      <td>307690973.0</td>\n",
       "    </tr>\n",
       "    <tr>\n",
       "      <th>3</th>\n",
       "      <td>33750343200</td>\n",
       "      <td>-9223372036854775808</td>\n",
       "      <td>245108160.5</td>\n",
       "      <td>889352748.0</td>\n",
       "    </tr>\n",
       "    <tr>\n",
       "      <th>4</th>\n",
       "      <td>33699795932</td>\n",
       "      <td>-9223372036854775808</td>\n",
       "      <td>245108160.5</td>\n",
       "      <td>607681403.0</td>\n",
       "    </tr>\n",
       "    <tr>\n",
       "      <th>...</th>\n",
       "      <td>...</td>\n",
       "      <td>...</td>\n",
       "      <td>...</td>\n",
       "      <td>...</td>\n",
       "    </tr>\n",
       "    <tr>\n",
       "      <th>146882</th>\n",
       "      <td>33762146363</td>\n",
       "      <td>7349883264234529792</td>\n",
       "      <td>61661729.0</td>\n",
       "      <td>352656000.0</td>\n",
       "    </tr>\n",
       "    <tr>\n",
       "      <th>146883</th>\n",
       "      <td>33761274518</td>\n",
       "      <td>-9223372036854775808</td>\n",
       "      <td>84940610.0</td>\n",
       "      <td>116264912.0</td>\n",
       "    </tr>\n",
       "    <tr>\n",
       "      <th>146884</th>\n",
       "      <td>33626114091</td>\n",
       "      <td>-9223372036854775808</td>\n",
       "      <td>125622433.0</td>\n",
       "      <td>666947481.0</td>\n",
       "    </tr>\n",
       "    <tr>\n",
       "      <th>146885</th>\n",
       "      <td>33645655643</td>\n",
       "      <td>-9223372036854775808</td>\n",
       "      <td>113545185.0</td>\n",
       "      <td>922173944.0</td>\n",
       "    </tr>\n",
       "    <tr>\n",
       "      <th>146886</th>\n",
       "      <td>33668648496</td>\n",
       "      <td>-9223372036854775808</td>\n",
       "      <td>59587792.0</td>\n",
       "      <td>872761860.0</td>\n",
       "    </tr>\n",
       "  </tbody>\n",
       "</table>\n",
       "<p>146887 rows × 4 columns</p>\n",
       "</div>"
      ],
      "text/plain": [
       "        MSISDN/Number            Bearer Id  time_duration  \\\n",
       "0         33664962239 -9223372036854775808    245108160.5   \n",
       "1         33681854413 -9223372036854775808    245108160.5   \n",
       "2         33760627129 -9223372036854775808    245108160.5   \n",
       "3         33750343200 -9223372036854775808    245108160.5   \n",
       "4         33699795932 -9223372036854775808    245108160.5   \n",
       "...               ...                  ...            ...   \n",
       "146882    33762146363  7349883264234529792     61661729.0   \n",
       "146883    33761274518 -9223372036854775808     84940610.0   \n",
       "146884    33626114091 -9223372036854775808    125622433.0   \n",
       "146885    33645655643 -9223372036854775808    113545185.0   \n",
       "146886    33668648496 -9223372036854775808     59587792.0   \n",
       "\n",
       "        Total Data Volume (Bytes)  \n",
       "0                     345629377.0  \n",
       "1                     707185356.0  \n",
       "2                     307690973.0  \n",
       "3                     889352748.0  \n",
       "4                     607681403.0  \n",
       "...                           ...  \n",
       "146882                352656000.0  \n",
       "146883                116264912.0  \n",
       "146884                666947481.0  \n",
       "146885                922173944.0  \n",
       "146886                872761860.0  \n",
       "\n",
       "[146887 rows x 4 columns]"
      ]
     },
     "execution_count": 15,
     "metadata": {},
     "output_type": "execute_result"
    }
   ],
   "source": [
    "engagement_of_users = clean_df[['MSISDN/Number', 'Bearer Id', 'Dur. (ms).1', 'Total Data Volume (Bytes)']].copy().rename(columns={'Dur. (ms).1': 'time_duration'})#, 'total_data': 'total_data_volume'})\n",
    "engagement_of_users"
   ]
  },
  {
   "cell_type": "code",
   "execution_count": null,
   "id": "8362e344",
   "metadata": {},
   "outputs": [],
   "source": []
  }
 ],
 "metadata": {
  "kernelspec": {
   "display_name": "Python 3 (ipykernel)",
   "language": "python",
   "name": "python3"
  },
  "language_info": {
   "codemirror_mode": {
    "name": "ipython",
    "version": 3
   },
   "file_extension": ".py",
   "mimetype": "text/x-python",
   "name": "python",
   "nbconvert_exporter": "python",
   "pygments_lexer": "ipython3",
   "version": "3.9.7"
  }
 },
 "nbformat": 4,
 "nbformat_minor": 5
}
