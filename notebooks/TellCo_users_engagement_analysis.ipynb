{
 "cells": [
  {
   "cell_type": "markdown",
   "id": "f5500ca0",
   "metadata": {},
   "source": [
    "## User Engagement Analysis"
   ]
  },
  {
   "cell_type": "markdown",
   "id": "23f9ad57",
   "metadata": {},
   "source": [
    "### Major Objectives \n",
    "Track the user’s engagement using the following engagement metrics: \n",
    "- sessions frequency \n",
    "- the duration of the session \n",
    "- the sessions total traffic (download and upload (bytes))"
   ]
  },
  {
   "cell_type": "markdown",
   "id": "b3c0bab7",
   "metadata": {},
   "source": [
    "### Sub Tasks\n",
    "- Aggregate the above metrics per customer id (MSISDN) and report the top 10 customers per engagement metric \n",
    "- Normalize each engagement metric and run a k-means (k=3) to classify customers in three groups of engagement. \n",
    "- Compute the minimum, maximum, average & total non- normalized metrics for each cluster. \n",
    "- Interpret your results visually with accompanying text explaining your findings.\n",
    "- Aggregate user total traffic per application and derive the top 10 most engaged users per application\n",
    "- Plot the top 3 most used applications using appropriate charts.  \n",
    "- Using k-means clustering algorithm, group users in k engagement clusters based on the engagement metrics: \n",
    "- What is the optimized value of k (use elbow method for this)?  \n",
    "- Interpret your findings. \n"
   ]
  },
  {
   "cell_type": "markdown",
   "id": "9708d800",
   "metadata": {},
   "source": [
    "### Importing Liberaries"
   ]
  },
  {
   "cell_type": "code",
   "execution_count": 5,
   "id": "2bf228fe",
   "metadata": {},
   "outputs": [],
   "source": [
    "import pandas as pd\n",
    "import numpy as np\n",
    "import matplotlib.pyplot as plt\n",
    "import seaborn as sns\n",
    "import plotly.express as px\n",
    "import matplotlib\n",
    "import warnings\n",
    "warnings.filterwarnings(\"ignore\", category=FutureWarning)\n",
    "import math\n",
    "import sys, os"
   ]
  },
  {
   "cell_type": "code",
   "execution_count": 6,
   "id": "0e633344",
   "metadata": {},
   "outputs": [],
   "source": [
    "sys.path.append(os.path.abspath(os.path.join('../scripts..')))\n",
    "from data_visualizer import *\n",
    "from data_selector import *\n",
    "from outlier_handler import*"
   ]
  },
  {
   "cell_type": "markdown",
   "id": "b69347ef",
   "metadata": {},
   "source": [
    "### Load Data"
   ]
  },
  {
   "cell_type": "code",
   "execution_count": 7,
   "id": "b78aedee",
   "metadata": {},
   "outputs": [
    {
     "name": "stdout",
     "output_type": "stream",
     "text": [
      "<class 'pandas.core.frame.DataFrame'>\n",
      "RangeIndex: 146887 entries, 0 to 146886\n",
      "Data columns (total 55 columns):\n",
      " #   Column                            Non-Null Count   Dtype  \n",
      "---  ------                            --------------   -----  \n",
      " 0   Unnamed: 0                        146887 non-null  int64  \n",
      " 1   Bearer Id                         146887 non-null  int64  \n",
      " 2   Start                             146887 non-null  object \n",
      " 3   Start ms                          146887 non-null  float64\n",
      " 4   End                               146887 non-null  object \n",
      " 5   End ms                            146887 non-null  float64\n",
      " 6   IMSI                              146887 non-null  int64  \n",
      " 7   MSISDN/Number                     146887 non-null  int64  \n",
      " 8   IMEI                              146887 non-null  int64  \n",
      " 9   Last Location Name                146887 non-null  object \n",
      " 10  Avg RTT DL (ms)                   146887 non-null  float64\n",
      " 11  Avg RTT UL (ms)                   146887 non-null  float64\n",
      " 12  Avg Bearer TP DL (kbps)           146887 non-null  float64\n",
      " 13  Avg Bearer TP UL (kbps)           146887 non-null  float64\n",
      " 14  TCP DL Retrans. Vol (Bytes)       146887 non-null  float64\n",
      " 15  TCP UL Retrans. Vol (Bytes)       146887 non-null  float64\n",
      " 16  DL TP < 50 Kbps (%)               146887 non-null  float64\n",
      " 17  50 Kbps < DL TP < 250 Kbps (%)    146887 non-null  float64\n",
      " 18  250 Kbps < DL TP < 1 Mbps (%)     146887 non-null  float64\n",
      " 19  DL TP > 1 Mbps (%)                146887 non-null  float64\n",
      " 20  UL TP < 10 Kbps (%)               146887 non-null  float64\n",
      " 21  10 Kbps < UL TP < 50 Kbps (%)     146887 non-null  float64\n",
      " 22  50 Kbps < UL TP < 300 Kbps (%)    146887 non-null  float64\n",
      " 23  UL TP > 300 Kbps (%)              146887 non-null  float64\n",
      " 24  Activity Duration DL (ms)         146887 non-null  float64\n",
      " 25  Activity Duration UL (ms)         146887 non-null  float64\n",
      " 26  Dur. (ms).1                       146887 non-null  float64\n",
      " 27  Handset Manufacturer              146887 non-null  object \n",
      " 28  Handset Type                      146887 non-null  object \n",
      " 29  Nb of sec with Vol DL < 6250B     146887 non-null  float64\n",
      " 30  Nb of sec with Vol UL < 1250B     146887 non-null  float64\n",
      " 31  Social Media DL (Bytes)           146887 non-null  float64\n",
      " 32  Social Media UL (Bytes)           146887 non-null  float64\n",
      " 33  Google DL (Bytes)                 146887 non-null  float64\n",
      " 34  Google UL (Bytes)                 146887 non-null  float64\n",
      " 35  Email DL (Bytes)                  146887 non-null  float64\n",
      " 36  Email UL (Bytes)                  146887 non-null  float64\n",
      " 37  Youtube DL (Bytes)                146887 non-null  float64\n",
      " 38  Youtube UL (Bytes)                146887 non-null  float64\n",
      " 39  Netflix DL (Bytes)                146887 non-null  float64\n",
      " 40  Netflix UL (Bytes)                146887 non-null  float64\n",
      " 41  Gaming DL (Bytes)                 146887 non-null  float64\n",
      " 42  Gaming UL (Bytes)                 146887 non-null  float64\n",
      " 43  Other DL (Bytes)                  146887 non-null  float64\n",
      " 44  Other UL (Bytes)                  146887 non-null  float64\n",
      " 45  Total UL (Bytes)                  146887 non-null  float64\n",
      " 46  Total DL (Bytes)                  146887 non-null  float64\n",
      " 47  Social Media Data Volume (Bytes)  146887 non-null  float64\n",
      " 48  Google Data Volume (Bytes)        146887 non-null  float64\n",
      " 49  Email Data Volume (Bytes)         146887 non-null  float64\n",
      " 50  Youtube Data Volume (Bytes)       146887 non-null  float64\n",
      " 51  Netflix Data Volume (Bytes)       146887 non-null  float64\n",
      " 52  Gaming Data Volume (Bytes)        146887 non-null  float64\n",
      " 53  Other Data Volume (Bytes)         146887 non-null  float64\n",
      " 54  Total Data Volume (Bytes)         146887 non-null  float64\n",
      "dtypes: float64(45), int64(5), object(5)\n",
      "memory usage: 61.6+ MB\n"
     ]
    }
   ],
   "source": [
    "clean_df = pd.read_csv(\"../data/my_clean_data.csv\")\n",
    "clean_df.info()"
   ]
  },
  {
   "cell_type": "markdown",
   "id": "72681ba3",
   "metadata": {},
   "source": [
    "### User Engagement Analysis"
   ]
  },
  {
   "cell_type": "markdown",
   "id": "35e7112a",
   "metadata": {},
   "source": [
    "**1. Top 10 customers per engagement metric**"
   ]
  },
  {
   "cell_type": "code",
   "execution_count": 10,
   "id": "15160330",
   "metadata": {},
   "outputs": [
    {
     "name": "stdout",
     "output_type": "stream",
     "text": [
      "The total number of Customer in the TellCo are =  105716\n"
     ]
    }
   ],
   "source": [
    "total_users = clean_df['MSISDN/Number'].nunique()\n",
    "print(\"The total number of Customer in the TellCo are = \",total_users)"
   ]
  },
  {
   "cell_type": "code",
   "execution_count": null,
   "id": "545d9d32",
   "metadata": {},
   "outputs": [],
   "source": [
    "engagement_of_df = df[['msisdn_number', 'bearer_id', 'dur_(ms)', 'total_data']].copy(\n",
    ").rename(columns={'dur_(ms)': 'duration', 'total_data': 'total_data_volume'})"
   ]
  }
 ],
 "metadata": {
  "kernelspec": {
   "display_name": "Python 3 (ipykernel)",
   "language": "python",
   "name": "python3"
  },
  "language_info": {
   "codemirror_mode": {
    "name": "ipython",
    "version": 3
   },
   "file_extension": ".py",
   "mimetype": "text/x-python",
   "name": "python",
   "nbconvert_exporter": "python",
   "pygments_lexer": "ipython3",
   "version": "3.9.7"
  }
 },
 "nbformat": 4,
 "nbformat_minor": 5
}
