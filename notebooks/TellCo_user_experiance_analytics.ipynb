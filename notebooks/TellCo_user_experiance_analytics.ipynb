{
 "cells": [
  {
   "cell_type": "markdown",
   "id": "f154d5fb",
   "metadata": {},
   "source": [
    "## User Experience Analytics"
   ]
  },
  {
   "cell_type": "markdown",
   "id": "1788c990",
   "metadata": {},
   "source": [
    "### Import Liberaries"
   ]
  },
  {
   "cell_type": "code",
   "execution_count": 1,
   "id": "031c67b8",
   "metadata": {},
   "outputs": [],
   "source": [
    "import pickle\n",
    "import numpy as np\n",
    "import pandas as pd\n",
    "from math import floor\n",
    "import plotly.express as px\n",
    "import plotly.graph_objects as go\n",
    "from plotly.subplots import make_subplots\n",
    "from scipy.stats import zscore\n",
    "from sklearn import metrics\n",
    "from sklearn.cluster import KMeans\n",
    "from sklearn.preprocessing import StandardScaler, normalize\n",
    "from scipy.spatial.distance import cdist\n",
    "import matplotlib.pyplot as plt\n",
    "import sys, os"
   ]
  },
  {
   "cell_type": "code",
   "execution_count": null,
   "id": "f878c494",
   "metadata": {},
   "outputs": [],
   "source": [
    "pd.set_option('display.max_columns', None)\n",
    "pd.set_option('display.max_colwidth', None)\n",
    "pd.set_option(\"expand_frame_repr\", False)\n",
    "pd.set_option('display.float_format', '{:.2f}'.format)"
   ]
  },
  {
   "cell_type": "code",
   "execution_count": null,
   "id": "85b0e59e",
   "metadata": {},
   "outputs": [],
   "source": [
    "sys.path.append(os.path.abspath(os.path.join('../scripts')))\n",
    "from df_outlier import DfOutlier\n",
    "from vis_seaborn import *\n",
    "\n",
    "from vis_plotly import *"
   ]
  },
  {
   "cell_type": "markdown",
   "id": "c440db0d",
   "metadata": {},
   "source": [
    "### Loading Data"
   ]
  },
  {
   "cell_type": "code",
   "execution_count": null,
   "id": "3cd951e8",
   "metadata": {},
   "outputs": [],
   "source": [
    "df1 = pd.read_csv(\"../data/my_clean_data.csv\")\n",
    "df1.info()"
   ]
  },
  {
   "cell_type": "markdown",
   "id": "bcb50a06",
   "metadata": {},
   "source": [
    "1. "
   ]
  },
  {
   "cell_type": "code",
   "execution_count": null,
   "id": "1c606463",
   "metadata": {},
   "outputs": [],
   "source": [
    "user_experience = df1[[\n",
    "    \"MSISDN/Number\",\n",
    "    \"Avg RTT DL (ms)\",\n",
    "    \"Avg RTT UL (ms)\",\n",
    "    \"Avg Bearer TP DL (kbps)\",\n",
    "    \"Avg Bearer TP UL (kbps)\",\n",
    "    \"TCP DL Retrans. Vol (Bytes)\",\n",
    "    \"TCP UL Retrans. Vol (Bytes)\",\n",
    "    \"Handset Type\"]].copy()"
   ]
  },
  {
   "cell_type": "code",
   "execution_count": null,
   "id": "02e6c155",
   "metadata": {},
   "outputs": [],
   "source": [
    "user_experience['total_avg_rtt'] = user_experience['Avg RTT DL (ms)'] + user_experience['Avg RTT UL (ms)']\n",
    "user_experience['total_avg_tp'] = user_experience['Avg Bearer TP DL (kbps)'] + user_experience['Avg Bearer TP UL (kbps)']\n",
    "user_experience['total_avg_tcp'] = user_experience['TCP DL Retrans. Vol (Bytes)'] + user_experience['TCP UL Retrans. Vol (Bytes)']\n",
    "user_experience.info()"
   ]
  },
  {
   "cell_type": "code",
   "execution_count": null,
   "id": "9d85d82c",
   "metadata": {},
   "outputs": [],
   "source": []
  },
  {
   "cell_type": "code",
   "execution_count": null,
   "id": "e070b137",
   "metadata": {},
   "outputs": [],
   "source": [
    "_user_experience = user_experience.groupby('MSISDN/Number').agg({\n",
    "    'total_avg_rtt': 'sum',\n",
    "    'total_avg_tp': 'sum',\n",
    "    'total_avg_tcp': 'sum',\n",
    "    'Handset Type': [lambda x: x.mode()[0]]})\n",
    "\n",
    "user_experience = pd.DataFrame(columns=[\n",
    "    \"total_avg_rtt\",\n",
    "    \"total_avg_tp\",\n",
    "    \"total_avg_tcp\",\n",
    "    \"Handset Type\"])\n",
    "\n",
    "user_experience[\"total_avg_rtt\"] = _user_experience[\"total_avg_rtt\"]['sum']\n",
    "user_experience[\"total_avg_tp\"] = _user_experience[\"total_avg_tp\"]['sum']\n",
    "user_experience[\"total_avg_tcp\"] = _user_experience[\"total_avg_tcp\"]['sum']\n",
    "user_experience[\"Handset Type\"] = _user_experience[\"Handset Type\"]['<lambda>']\n",
    "user_experience.head()"
   ]
  },
  {
   "cell_type": "code",
   "execution_count": null,
   "id": "5ea140e2",
   "metadata": {},
   "outputs": [],
   "source": [
    "2. "
   ]
  },
  {
   "cell_type": "code",
   "execution_count": null,
   "id": "08b161d7",
   "metadata": {},
   "outputs": [],
   "source": [
    "sorted_by_tcp = user_experience.sort_values(\n",
    "    'total_avg_tcp', ascending=False)\n",
    "top_10 = sorted_by_tcp.head(10)['total_avg_tcp']\n",
    "last_10 = sorted_by_tcp.tail(10)['total_avg_tcp']\n",
    "most_10 = user_experience['total_avg_tcp'].value_counts().head(10)\n"
   ]
  },
  {
   "cell_type": "code",
   "execution_count": null,
   "id": "d92c8953",
   "metadata": {},
   "outputs": [],
   "source": [
    "mult_hist([top_10, last_10, most_10], 1,\n",
    "          3, \"TCP values in the dataset\", ['Top 10', 'Last 10', 'Most 10'])"
   ]
  },
  {
   "cell_type": "code",
   "execution_count": null,
   "id": "af19d00d",
   "metadata": {},
   "outputs": [],
   "source": []
  },
  {
   "cell_type": "code",
   "execution_count": null,
   "id": "4d3529ac",
   "metadata": {},
   "outputs": [],
   "source": [
    "sorted_by_rtt = user_experience.sort_values(\n",
    "    'total_avg_rtt', ascending=False)\n",
    "top_10 = sorted_by_rtt.head(10)['total_avg_rtt']\n",
    "last_10 = sorted_by_rtt.tail(10)['total_avg_rtt']\n",
    "most_10 = user_experience['total_avg_rtt'].value_counts().head(10)"
   ]
  },
  {
   "cell_type": "code",
   "execution_count": null,
   "id": "8a6a492b",
   "metadata": {},
   "outputs": [],
   "source": []
  },
  {
   "cell_type": "code",
   "execution_count": null,
   "id": "a1bb11ad",
   "metadata": {},
   "outputs": [],
   "source": [
    "\n",
    "mult_hist([top_10, last_10, most_10, top_10], 1,\n",
    "          3, \"TCP values in the dataset\", ['Top 10', 'Last 10', 'Most 10'])"
   ]
  },
  {
   "cell_type": "code",
   "execution_count": null,
   "id": "fae89e96",
   "metadata": {},
   "outputs": [],
   "source": []
  },
  {
   "cell_type": "code",
   "execution_count": null,
   "id": "a303d907",
   "metadata": {},
   "outputs": [],
   "source": [
    "sorted_by_tp = user_experience.sort_values(\n",
    "    'total_avg_tp', ascending=False)\n",
    "top_10 = sorted_by_tp.head(10)['total_avg_tp']\n",
    "last_10 = sorted_by_tp.tail(10)['total_avg_tp']\n",
    "most_10 = user_experience['total_avg_tp'].value_counts().head(10)"
   ]
  },
  {
   "cell_type": "code",
   "execution_count": null,
   "id": "8f83000c",
   "metadata": {},
   "outputs": [],
   "source": []
  },
  {
   "cell_type": "code",
   "execution_count": null,
   "id": "bd885b3d",
   "metadata": {},
   "outputs": [],
   "source": [
    "ult_hist([top_10, last_10, most_10, top_10], 1,\n",
    "          3, \"TCP values in the dataset\", ['Top 10', 'Last 10', 'Most 10'])"
   ]
  },
  {
   "cell_type": "code",
   "execution_count": null,
   "id": "13a600e7",
   "metadata": {},
   "outputs": [],
   "source": [
    "3. "
   ]
  },
  {
   "cell_type": "code",
   "execution_count": null,
   "id": "7835691e",
   "metadata": {},
   "outputs": [],
   "source": []
  },
  {
   "cell_type": "code",
   "execution_count": null,
   "id": "60b7cfdd",
   "metadata": {},
   "outputs": [],
   "source": []
  },
  {
   "cell_type": "code",
   "execution_count": null,
   "id": "9e049a6a",
   "metadata": {},
   "outputs": [],
   "source": []
  },
  {
   "cell_type": "code",
   "execution_count": null,
   "id": "835de703",
   "metadata": {},
   "outputs": [],
   "source": []
  },
  {
   "cell_type": "code",
   "execution_count": null,
   "id": "5f473a02",
   "metadata": {},
   "outputs": [],
   "source": [
    "\n"
   ]
  },
  {
   "cell_type": "code",
   "execution_count": null,
   "id": "7ac4a620",
   "metadata": {},
   "outputs": [],
   "source": []
  },
  {
   "cell_type": "code",
   "execution_count": null,
   "id": "680cea0f",
   "metadata": {},
   "outputs": [],
   "source": []
  },
  {
   "cell_type": "code",
   "execution_count": null,
   "id": "c0838fd2",
   "metadata": {},
   "outputs": [],
   "source": []
  },
  {
   "cell_type": "code",
   "execution_count": null,
   "id": "c4b130b8",
   "metadata": {},
   "outputs": [],
   "source": []
  }
 ],
 "metadata": {
  "kernelspec": {
   "display_name": "Python 3 (ipykernel)",
   "language": "python",
   "name": "python3"
  },
  "language_info": {
   "codemirror_mode": {
    "name": "ipython",
    "version": 3
   },
   "file_extension": ".py",
   "mimetype": "text/x-python",
   "name": "python",
   "nbconvert_exporter": "python",
   "pygments_lexer": "ipython3",
   "version": "3.9.7"
  }
 },
 "nbformat": 4,
 "nbformat_minor": 5
}
