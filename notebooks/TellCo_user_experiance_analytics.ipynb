{
 "cells": [
  {
   "cell_type": "markdown",
   "id": "313a5d56",
   "metadata": {},
   "source": [
    "## User Experience Analytics"
   ]
  },
  {
   "cell_type": "markdown",
   "id": "6cc0c8a2",
   "metadata": {},
   "source": [
    "### Import Liberaries"
   ]
  },
  {
   "cell_type": "code",
   "execution_count": 1,
   "id": "62dd38d1",
   "metadata": {},
   "outputs": [],
   "source": [
    "import pickle\n",
    "import numpy as np\n",
    "import pandas as pd\n",
    "from math import floor\n",
    "import plotly.express as px\n",
    "import plotly.graph_objects as go\n",
    "from plotly.subplots import make_subplots\n",
    "from scipy.stats import zscore\n",
    "from sklearn import metrics\n",
    "from sklearn.cluster import KMeans\n",
    "from sklearn.preprocessing import StandardScaler, normalize\n",
    "from scipy.spatial.distance import cdist\n",
    "import matplotlib.pyplot as plt\n",
    "import sys, os"
   ]
  },
  {
   "cell_type": "code",
   "execution_count": null,
   "id": "1bb01742",
   "metadata": {},
   "outputs": [],
   "source": [
    "pd.set_option('display.max_columns', None)\n",
    "pd.set_option('display.max_colwidth', None)\n",
    "pd.set_option(\"expand_frame_repr\", False)\n",
    "pd.set_option('display.float_format', '{:.2f}'.format)"
   ]
  },
  {
   "cell_type": "code",
   "execution_count": null,
   "id": "d0eea946",
   "metadata": {},
   "outputs": [],
   "source": [
    "sys.path.append(os.path.abspath(os.path.join('../scripts')))\n",
    "from df_outlier import DfOutlier\n",
    "from vis_seaborn import *\n",
    "\n",
    "from vis_plotly import *"
   ]
  },
  {
   "cell_type": "markdown",
   "id": "e3d3997b",
   "metadata": {},
   "source": [
    "### Loading Data"
   ]
  },
  {
   "cell_type": "code",
   "execution_count": null,
   "id": "fe93d958",
   "metadata": {},
   "outputs": [],
   "source": [
    "df1 = pd.read_csv(\"../data/my_clean_data.csv\")\n",
    "df1.info()"
   ]
  },
  {
   "cell_type": "markdown",
   "id": "3732319d",
   "metadata": {},
   "source": [
    "1. "
   ]
  },
  {
   "cell_type": "code",
   "execution_count": null,
   "id": "75508c6b",
   "metadata": {},
   "outputs": [],
   "source": [
    "user_experience = df1[[\n",
    "    \"MSISDN/Number\",\n",
    "    \"Avg RTT DL (ms)\",\n",
    "    \"Avg RTT UL (ms)\",\n",
    "    \"Avg Bearer TP DL (kbps)\",\n",
    "    \"Avg Bearer TP UL (kbps)\",\n",
    "    \"TCP DL Retrans. Vol (Bytes)\",\n",
    "    \"TCP UL Retrans. Vol (Bytes)\",\n",
    "    \"Handset Type\"]].copy()"
   ]
  },
  {
   "cell_type": "code",
   "execution_count": null,
   "id": "fb5debb4",
   "metadata": {},
   "outputs": [],
   "source": [
    "user_experience['total_avg_rtt'] = user_experience['Avg RTT DL (ms)'] + user_experience['Avg RTT UL (ms)']\n",
    "user_experience['total_avg_tp'] = user_experience['Avg Bearer TP DL (kbps)'] + user_experience['Avg Bearer TP UL (kbps)']\n",
    "user_experience['total_avg_tcp'] = user_experience['TCP DL Retrans. Vol (Bytes)'] + user_experience['TCP UL Retrans. Vol (Bytes)']\n",
    "user_experience.info()"
   ]
  },
  {
   "cell_type": "code",
   "execution_count": null,
   "id": "a94db790",
   "metadata": {},
   "outputs": [],
   "source": []
  },
  {
   "cell_type": "code",
   "execution_count": null,
   "id": "56a1002a",
   "metadata": {},
   "outputs": [],
   "source": [
    "_user_experience = user_experience.groupby('MSISDN/Number').agg({\n",
    "    'total_avg_rtt': 'sum',\n",
    "    'total_avg_tp': 'sum',\n",
    "    'total_avg_tcp': 'sum',\n",
    "    'Handset Type': [lambda x: x.mode()[0]]})\n",
    "\n",
    "user_experience = pd.DataFrame(columns=[\n",
    "    \"total_avg_rtt\",\n",
    "    \"total_avg_tp\",\n",
    "    \"total_avg_tcp\",\n",
    "    \"Handset Type\"])\n",
    "\n",
    "user_experience[\"total_avg_rtt\"] = _user_experience[\"total_avg_rtt\"]['sum']\n",
    "user_experience[\"total_avg_tp\"] = _user_experience[\"total_avg_tp\"]['sum']\n",
    "user_experience[\"total_avg_tcp\"] = _user_experience[\"total_avg_tcp\"]['sum']\n",
    "user_experience[\"Handset Type\"] = _user_experience[\"Handset Type\"]['<lambda>']\n",
    "user_experience.head()"
   ]
  },
  {
   "cell_type": "code",
   "execution_count": null,
   "id": "05decd68",
   "metadata": {},
   "outputs": [],
   "source": [
    "2. "
   ]
  },
  {
   "cell_type": "code",
   "execution_count": null,
   "id": "ce0f4f9a",
   "metadata": {},
   "outputs": [],
   "source": []
  },
  {
   "cell_type": "code",
   "execution_count": null,
   "id": "2de88708",
   "metadata": {},
   "outputs": [],
   "source": []
  },
  {
   "cell_type": "code",
   "execution_count": null,
   "id": "71803843",
   "metadata": {},
   "outputs": [],
   "source": []
  },
  {
   "cell_type": "code",
   "execution_count": null,
   "id": "d4525a0a",
   "metadata": {},
   "outputs": [],
   "source": []
  },
  {
   "cell_type": "code",
   "execution_count": null,
   "id": "860aaff0",
   "metadata": {},
   "outputs": [],
   "source": []
  },
  {
   "cell_type": "code",
   "execution_count": null,
   "id": "3dbf24b9",
   "metadata": {},
   "outputs": [],
   "source": [
    "\n"
   ]
  },
  {
   "cell_type": "code",
   "execution_count": null,
   "id": "411bfa3b",
   "metadata": {},
   "outputs": [],
   "source": []
  },
  {
   "cell_type": "code",
   "execution_count": null,
   "id": "ca352036",
   "metadata": {},
   "outputs": [],
   "source": []
  },
  {
   "cell_type": "code",
   "execution_count": null,
   "id": "5c20d0db",
   "metadata": {},
   "outputs": [],
   "source": []
  },
  {
   "cell_type": "code",
   "execution_count": null,
   "id": "3694af37",
   "metadata": {},
   "outputs": [],
   "source": []
  },
  {
   "cell_type": "code",
   "execution_count": null,
   "id": "ea29614e",
   "metadata": {},
   "outputs": [],
   "source": [
    "3. "
   ]
  },
  {
   "cell_type": "code",
   "execution_count": null,
   "id": "77a3e909",
   "metadata": {},
   "outputs": [],
   "source": []
  },
  {
   "cell_type": "code",
   "execution_count": null,
   "id": "27ae8382",
   "metadata": {},
   "outputs": [],
   "source": []
  },
  {
   "cell_type": "code",
   "execution_count": null,
   "id": "293ded04",
   "metadata": {},
   "outputs": [],
   "source": []
  },
  {
   "cell_type": "code",
   "execution_count": null,
   "id": "ef18f5d6",
   "metadata": {},
   "outputs": [],
   "source": []
  },
  {
   "cell_type": "code",
   "execution_count": null,
   "id": "100988f9",
   "metadata": {},
   "outputs": [],
   "source": [
    "hist(top_tp, interactive=True)\n"
   ]
  },
  {
   "cell_type": "code",
   "execution_count": null,
   "id": "e2b0f717",
   "metadata": {},
   "outputs": [],
   "source": [
    "hist(top_tp.head(20))"
   ]
  },
  {
   "cell_type": "code",
   "execution_count": null,
   "id": "4639edd2",
   "metadata": {},
   "outputs": [],
   "source": []
  },
  {
   "cell_type": "code",
   "execution_count": null,
   "id": "39e7d3f2",
   "metadata": {},
   "outputs": [],
   "source": [
    "sorted_by_tcp = handset_type_df.sort_values(\n",
    "    'total_avg_tcp', ascending=False)\n",
    "top_tcp = sorted_by_tcp['total_avg_tcp']"
   ]
  },
  {
   "cell_type": "code",
   "execution_count": null,
   "id": "71f5a934",
   "metadata": {},
   "outputs": [],
   "source": []
  }
 ],
 "metadata": {
  "kernelspec": {
   "display_name": "Python 3 (ipykernel)",
   "language": "python",
   "name": "python3"
  },
  "language_info": {
   "codemirror_mode": {
    "name": "ipython",
    "version": 3
   },
   "file_extension": ".py",
   "mimetype": "text/x-python",
   "name": "python",
   "nbconvert_exporter": "python",
   "pygments_lexer": "ipython3",
   "version": "3.9.7"
  }
 },
 "nbformat": 4,
 "nbformat_minor": 5
}
