{
 "cells": [
  {
   "cell_type": "markdown",
   "id": "c9cdc7da",
   "metadata": {},
   "source": [
    "## User Experience Analytics"
   ]
  },
  {
   "cell_type": "markdown",
   "id": "be1d1815",
   "metadata": {},
   "source": [
    "### Import Liberaries"
   ]
  },
  {
   "cell_type": "code",
   "execution_count": 1,
   "id": "8a3ff85a",
   "metadata": {},
   "outputs": [],
   "source": [
    "import pickle\n",
    "import numpy as np\n",
    "import pandas as pd\n",
    "from math import floor\n",
    "import plotly.express as px\n",
    "import plotly.graph_objects as go\n",
    "from plotly.subplots import make_subplots\n",
    "from scipy.stats import zscore\n",
    "from sklearn import metrics\n",
    "from sklearn.cluster import KMeans\n",
    "from sklearn.preprocessing import StandardScaler, normalize\n",
    "from scipy.spatial.distance import cdist\n",
    "import matplotlib.pyplot as plt\n",
    "import sys, os"
   ]
  },
  {
   "cell_type": "code",
   "execution_count": null,
   "id": "1234cab0",
   "metadata": {},
   "outputs": [],
   "source": [
    "pd.set_option('display.max_columns', None)\n",
    "pd.set_option('display.max_colwidth', None)\n",
    "pd.set_option(\"expand_frame_repr\", False)\n",
    "pd.set_option('display.float_format', '{:.2f}'.format)"
   ]
  },
  {
   "cell_type": "code",
   "execution_count": null,
   "id": "67a6820d",
   "metadata": {},
   "outputs": [],
   "source": [
    "sys.path.append(os.path.abspath(os.path.join('../scripts')))\n",
    "from df_outlier import DfOutlier\n",
    "from vis_seaborn import *\n",
    "\n",
    "from vis_plotly import *"
   ]
  },
  {
   "cell_type": "markdown",
   "id": "4ecf101c",
   "metadata": {},
   "source": [
    "### Loading Data"
   ]
  },
  {
   "cell_type": "code",
   "execution_count": null,
   "id": "5690eb38",
   "metadata": {},
   "outputs": [],
   "source": [
    "df1 = pd.read_csv(\"../data/my_clean_data.csv\")\n",
    "df1.info()"
   ]
  },
  {
   "cell_type": "markdown",
   "id": "3378ef40",
   "metadata": {},
   "source": [
    "1. "
   ]
  },
  {
   "cell_type": "code",
   "execution_count": null,
   "id": "adc6303a",
   "metadata": {},
   "outputs": [],
   "source": [
    "user_experience = df1[[\n",
    "    \"MSISDN/Number\",\n",
    "    \"Avg RTT DL (ms)\",\n",
    "    \"Avg RTT UL (ms)\",\n",
    "    \"Avg Bearer TP DL (kbps)\",\n",
    "    \"Avg Bearer TP UL (kbps)\",\n",
    "    \"TCP DL Retrans. Vol (Bytes)\",\n",
    "    \"TCP UL Retrans. Vol (Bytes)\",\n",
    "    \"Handset Type\"]].copy()"
   ]
  },
  {
   "cell_type": "code",
   "execution_count": null,
   "id": "957608a4",
   "metadata": {},
   "outputs": [],
   "source": [
    "user_experience['total_avg_rtt'] = user_experience['Avg RTT DL (ms)'] + user_experience['Avg RTT UL (ms)']\n",
    "user_experience['total_avg_tp'] = user_experience['Avg Bearer TP DL (kbps)'] + user_experience['Avg Bearer TP UL (kbps)']\n",
    "user_experience['total_avg_tcp'] = user_experience['TCP DL Retrans. Vol (Bytes)'] + user_experience['TCP UL Retrans. Vol (Bytes)']\n",
    "user_experience.info()"
   ]
  },
  {
   "cell_type": "code",
   "execution_count": null,
   "id": "b139c6ad",
   "metadata": {},
   "outputs": [],
   "source": []
  },
  {
   "cell_type": "code",
   "execution_count": null,
   "id": "cc1d128d",
   "metadata": {},
   "outputs": [],
   "source": [
    "_user_experience = user_experience.groupby('MSISDN/Number').agg({\n",
    "    'total_avg_rtt': 'sum',\n",
    "    'total_avg_tp': 'sum',\n",
    "    'total_avg_tcp': 'sum',\n",
    "    'Handset Type': [lambda x: x.mode()[0]]})\n",
    "\n",
    "user_experience = pd.DataFrame(columns=[\n",
    "    \"total_avg_rtt\",\n",
    "    \"total_avg_tp\",\n",
    "    \"total_avg_tcp\",\n",
    "    \"Handset Type\"])\n",
    "\n",
    "user_experience[\"total_avg_rtt\"] = _user_experience[\"total_avg_rtt\"]['sum']\n",
    "user_experience[\"total_avg_tp\"] = _user_experience[\"total_avg_tp\"]['sum']\n",
    "user_experience[\"total_avg_tcp\"] = _user_experience[\"total_avg_tcp\"]['sum']\n",
    "user_experience[\"Handset Type\"] = _user_experience[\"Handset Type\"]['<lambda>']\n",
    "user_experience.head()"
   ]
  },
  {
   "cell_type": "code",
   "execution_count": null,
   "id": "e5fc09f7",
   "metadata": {},
   "outputs": [],
   "source": [
    "2. "
   ]
  },
  {
   "cell_type": "code",
   "execution_count": null,
   "id": "c16baa52",
   "metadata": {},
   "outputs": [],
   "source": [
    "sorted_by_tcp = user_experience.sort_values(\n",
    "    'total_avg_tcp', ascending=False)\n",
    "top_10 = sorted_by_tcp.head(10)['total_avg_tcp']\n",
    "last_10 = sorted_by_tcp.tail(10)['total_avg_tcp']\n",
    "most_10 = user_experience['total_avg_tcp'].value_counts().head(10)\n"
   ]
  },
  {
   "cell_type": "code",
   "execution_count": null,
   "id": "d5c4a4dc",
   "metadata": {},
   "outputs": [],
   "source": [
    "mult_hist([top_10, last_10, most_10], 1,\n",
    "          3, \"TCP values in the dataset\", ['Top 10', 'Last 10', 'Most 10'])"
   ]
  },
  {
   "cell_type": "code",
   "execution_count": null,
   "id": "564fd455",
   "metadata": {},
   "outputs": [],
   "source": []
  },
  {
   "cell_type": "code",
   "execution_count": null,
   "id": "0a6e9653",
   "metadata": {},
   "outputs": [],
   "source": [
    "sorted_by_rtt = user_experience.sort_values(\n",
    "    'total_avg_rtt', ascending=False)\n",
    "top_10 = sorted_by_rtt.head(10)['total_avg_rtt']\n",
    "last_10 = sorted_by_rtt.tail(10)['total_avg_rtt']\n",
    "most_10 = user_experience['total_avg_rtt'].value_counts().head(10)"
   ]
  },
  {
   "cell_type": "code",
   "execution_count": null,
   "id": "0b302e9e",
   "metadata": {},
   "outputs": [],
   "source": []
  },
  {
   "cell_type": "code",
   "execution_count": null,
   "id": "b5d49ccd",
   "metadata": {},
   "outputs": [],
   "source": [
    "\n",
    "mult_hist([top_10, last_10, most_10, top_10], 1,\n",
    "          3, \"TCP values in the dataset\", ['Top 10', 'Last 10', 'Most 10'])"
   ]
  },
  {
   "cell_type": "code",
   "execution_count": null,
   "id": "2d3c177b",
   "metadata": {},
   "outputs": [],
   "source": []
  },
  {
   "cell_type": "code",
   "execution_count": null,
   "id": "a681e7f5",
   "metadata": {},
   "outputs": [],
   "source": [
    "sorted_by_tp = user_experience.sort_values(\n",
    "    'total_avg_tp', ascending=False)\n",
    "top_10 = sorted_by_tp.head(10)['total_avg_tp']\n",
    "last_10 = sorted_by_tp.tail(10)['total_avg_tp']\n",
    "most_10 = user_experience['total_avg_tp'].value_counts().head(10)"
   ]
  },
  {
   "cell_type": "code",
   "execution_count": null,
   "id": "1fdec85b",
   "metadata": {},
   "outputs": [],
   "source": []
  },
  {
   "cell_type": "code",
   "execution_count": null,
   "id": "bf6c2455",
   "metadata": {},
   "outputs": [],
   "source": [
    "ult_hist([top_10, last_10, most_10, top_10], 1,\n",
    "          3, \"TCP values in the dataset\", ['Top 10', 'Last 10', 'Most 10'])"
   ]
  },
  {
   "cell_type": "code",
   "execution_count": null,
   "id": "dfbc0d0c",
   "metadata": {},
   "outputs": [],
   "source": [
    "3. "
   ]
  },
  {
   "cell_type": "code",
   "execution_count": null,
   "id": "76ce39eb",
   "metadata": {},
   "outputs": [],
   "source": [
    "handset_type_df = user_experience.groupby('Handset Type').agg(\n",
    "    {'total_avg_tp': 'mean', 'total_avg_tcp': 'mean'})\n",
    "handset_type_df.head()"
   ]
  },
  {
   "cell_type": "code",
   "execution_count": null,
   "id": "b1101839",
   "metadata": {},
   "outputs": [],
   "source": []
  },
  {
   "cell_type": "code",
   "execution_count": null,
   "id": "85a6ff50",
   "metadata": {},
   "outputs": [],
   "source": [
    "sorted_by_tp = handset_type_df.sort_values(\n",
    "    'total_avg_tp', ascending=False)\n",
    "top_tp = sorted_by_tp['total_avg_tp']"
   ]
  },
  {
   "cell_type": "code",
   "execution_count": null,
   "id": "910a897e",
   "metadata": {},
   "outputs": [],
   "source": []
  },
  {
   "cell_type": "code",
   "execution_count": null,
   "id": "f4c6ae0e",
   "metadata": {},
   "outputs": [],
   "source": [
    "hist(top_tp, interactive=True)\n"
   ]
  },
  {
   "cell_type": "code",
   "execution_count": null,
   "id": "4a90ffe1",
   "metadata": {},
   "outputs": [],
   "source": [
    "hist(top_tp.head(20))"
   ]
  },
  {
   "cell_type": "code",
   "execution_count": null,
   "id": "b2ef70fb",
   "metadata": {},
   "outputs": [],
   "source": []
  },
  {
   "cell_type": "code",
   "execution_count": null,
   "id": "4ed36dd2",
   "metadata": {},
   "outputs": [],
   "source": [
    "sorted_by_tcp = handset_type_df.sort_values(\n",
    "    'total_avg_tcp', ascending=False)\n",
    "top_tcp = sorted_by_tcp['total_avg_tcp']"
   ]
  },
  {
   "cell_type": "code",
   "execution_count": null,
   "id": "365f018c",
   "metadata": {},
   "outputs": [],
   "source": [
    "hist(top_tcp, interactive=True)"
   ]
  },
  {
   "cell_type": "code",
   "execution_count": null,
   "id": "30edcea9",
   "metadata": {},
   "outputs": [],
   "source": [
    "hist(top_tcp.head(20))"
   ]
  },
  {
   "cell_type": "markdown",
   "id": "f65cdb22",
   "metadata": {},
   "source": [
    "4. "
   ]
  },
  {
   "cell_type": "code",
   "execution_count": null,
   "id": "e80b2829",
   "metadata": {},
   "outputs": [],
   "source": [
    "experiance_metric_df = user_experience[[\n",
    "    \"total_avg_rtt\",\n",
    "    \"total_avg_tp\",\n",
    "    \"total_avg_tcp\"]].copy()\n",
    "experiance_metric_df.head()"
   ]
  },
  {
   "cell_type": "code",
   "execution_count": null,
   "id": "dae28fa4",
   "metadata": {},
   "outputs": [],
   "source": []
  },
  {
   "cell_type": "code",
   "execution_count": null,
   "id": "1021cf7e",
   "metadata": {},
   "outputs": [],
   "source": [
    "experiance_metric_df.plot.box()"
   ]
  },
  {
   "cell_type": "code",
   "execution_count": null,
   "id": "8cd0b207",
   "metadata": {},
   "outputs": [],
   "source": [
    "df_outliers = DfOutlier(experiance_metric_df)\n",
    "df_outliers.getOverview()"
   ]
  },
  {
   "cell_type": "code",
   "execution_count": null,
   "id": "db9f6788",
   "metadata": {},
   "outputs": [],
   "source": [
    "df_outliers.replace_outliers_with_iqr(\n",
    "    [\"total_avg_rtt\",\n",
    "     \"total_avg_tp\",\n",
    "     \"total_avg_tcp\"])\n",
    "df_outliers = DfOutlier(experiance_metric_df)\n",
    "df_outliers.getOverview()"
   ]
  },
  {
   "cell_type": "code",
   "execution_count": null,
   "id": "47ecfb78",
   "metadata": {},
   "outputs": [],
   "source": [
    "experiance_metric_df.plot.box()"
   ]
  },
  {
   "cell_type": "code",
   "execution_count": null,
   "id": "0e38bea7",
   "metadata": {},
   "outputs": [],
   "source": [
    "scaler = StandardScaler()\n",
    "scaled_array = scaler.fit_transform(df_outliers.df)\n",
    "scaled_array\n",
    "pd.DataFrame(scaled_array).head(5)"
   ]
  },
  {
   "cell_type": "code",
   "execution_count": null,
   "id": "16af0c32",
   "metadata": {},
   "outputs": [],
   "source": [
    "data_normalized = normalize(scaled_array)\n",
    "pd.DataFrame(data_normalized).head(5)"
   ]
  },
  {
   "cell_type": "code",
   "execution_count": null,
   "id": "8ead100c",
   "metadata": {},
   "outputs": [],
   "source": [
    "kmeans = KMeans(n_clusters=3, random_state=0).fit(data_normalized)\n",
    "kmeans.labels_"
   ]
  },
  {
   "cell_type": "code",
   "execution_count": null,
   "id": "6ea30985",
   "metadata": {},
   "outputs": [],
   "source": [
    "experiance_metric_df.insert(0, 'cluster', kmeans.labels_)\n",
    "experiance_metric_df"
   ]
  },
  {
   "cell_type": "code",
   "execution_count": null,
   "id": "a105168e",
   "metadata": {},
   "outputs": [],
   "source": [
    "experiance_metric_df['cluster'].value_counts()"
   ]
  },
  {
   "cell_type": "code",
   "execution_count": null,
   "id": "975faf1f",
   "metadata": {},
   "outputs": [],
   "source": [
    "fig = px.scatter(experiance_metric_df, x='total_avg_rtt', y=\"total_avg_tp\",\n",
    "                 color='cluster', size='total_avg_tcp')\n",
    "fig.show()"
   ]
  },
  {
   "cell_type": "code",
   "execution_count": null,
   "id": "32769802",
   "metadata": {},
   "outputs": [],
   "source": [
    "scatter3D(experiance_metric_df, x=\"total_avg_tcp\", y=\"total_avg_rtt\", z=\"total_avg_tp\",\n",
    "          c=\"cluster\", rotation=[-1.5, -1.5, 1])"
   ]
  },
  {
   "cell_type": "markdown",
   "id": "369a86be",
   "metadata": {},
   "source": []
  },
  {
   "cell_type": "code",
   "execution_count": null,
   "id": "6c728f13",
   "metadata": {},
   "outputs": [],
   "source": []
  }
 ],
 "metadata": {
  "kernelspec": {
   "display_name": "Python 3 (ipykernel)",
   "language": "python",
   "name": "python3"
  },
  "language_info": {
   "codemirror_mode": {
    "name": "ipython",
    "version": 3
   },
   "file_extension": ".py",
   "mimetype": "text/x-python",
   "name": "python",
   "nbconvert_exporter": "python",
   "pygments_lexer": "ipython3",
   "version": "3.9.7"
  }
 },
 "nbformat": 4,
 "nbformat_minor": 5
}
